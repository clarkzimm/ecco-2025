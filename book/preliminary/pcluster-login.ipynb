{
 "cells": [
  {
   "cell_type": "markdown",
   "id": "47f4c5e1-4663-4519-a5ad-ca97c7908320",
   "metadata": {},
   "source": [
    "# Getting Started with the P-Cluster \n",
    "```{attention}\n",
    "Please make sure to find some time to go through the below material before the summer school.\n",
    "\n",
    "__Upon completion you__:\n",
    "<div>\n",
    "  <input type=\"checkbox\" name=\"a1\">\n",
    "  <label for=\"a1\">Connect to the P-Cluster</label>\n",
    "</div>\n",
    "<div>\n",
    "  <input type=\"checkbox\" name=\"a2\">\n",
    "  <label for=\"a2\">Update the .bashrc file in your P-Cluster home directory </label>\n",
    "</div>\n",
    "```\n",
    "\n",
    "## P-Cluster Overview\n",
    "\n",
    "The P-Cluster is very much like a high-performance computing (HPC) system where you can run interactive jobs and/or perform parallel computing. Our [P-Cluster](https://docs.aws.amazon.com/parallelcluster/latest/ug/what-is-aws-parallelcluster.html) uses compute resources from the AWS cloud.\n",
    "\n",
    "Users connect to the P-Cluster via SSH"
   ]
  },
  {
   "cell_type": "markdown",
   "id": "2b34d3e9-eca0-4520-b02a-5a7c2eed0e25",
   "metadata": {},
   "source": [
    "\n",
    "## Connect to the P-Cluster\n",
    "\n",
    "Note: befor eyou can log into the P-Cluster, we'll need to register your public SSH key. Follow the instructions in the tutorial \"Setting up your SSH keys\" before continuing here.\n",
    "\n",
    "\n",
    "### Connecting to the P-Cluster using SSH and your private key\n",
    "\n",
    "From your local Linux or Mac terminal, connect to the P-Cluster via ssh using its IP address (34.210.1.198):\n",
    "```\n",
    "ssh -i /path/to/privatekey -X USERNAME@34.210.1.198\n",
    "```\n",
    "\n",
    "Note your USERNAME is not the same as your email address. \n",
    "\n",
    "*[Students usernames are here](https://docs.google.com/spreadsheets/d/1p4-lfTzswIMGK_pLBXU3D8d2xVg10ZXhO9s0YImfnpE/edit?usp=sharing)*\n",
    "\n",
    "*[Staff usernames are here](https://docs.google.com/spreadsheets/d/1TZfhs0P5Qwb_LgJlHrwXdfd0EGQoFcxmI-K2Fjj078k/edit?usp=sharing)*\n",
    "\n",
    "\n",
    "The -X option in the ssh -X command enables X11 forwarding, allowing you to run graphical applications on a remote machine and display them locally on your computer.\n",
    "\n",
    "If you used a passphrase to create your keys then you may be prompted to enter it:\n",
    "```    \n",
    "    Enter passphrase for key '/Users/USERNAME/.ssh/id_rsa':\n",
    "```\n",
    "\n",
    "\n",
    "Once you successfully log in, you will be in your home directory, /home/USERNAME/.\n",
    "The home directory is intended for storing analysis code, scripts, configurations, and user-specific settings, while the /efs_ecco/USERNAME/ directory is better suited for conducting model runs.\n",
    "\n",
    "\n",
    "## Update the .bashrc file in your P-Cluster home directory \n",
    "By default, the P-Cluster uses Bash as the shell environment. Each user has a .bashrc file in their home directory, which is automatically executed whenever a new Bash session starts.\n",
    "This file can be customized to set environment variables, create aliases, and configure other shell settings.\n",
    "Here is an [example .bashrc](../tutorials/pcluster/example.bashrc) that sets the default Bash environment on the P-Cluster.\n",
    "This [example .bashrc](../tutorials/pcluster/example.bashrc) can serve as a starting point for further customization (download it, place it in your home directory, and rename it to .bashrc).\n",
    "\n",
    "```\n",
    "# from your home directory on the p-cluster, download the example.bashrc \n",
    "wget https://raw.githubusercontent.com/ECCO-Summer-School/ecco-2025/refs/heads/main/assets/example.bashrc\n",
    "# rename it to .bashrc \n",
    "mv example.bashrc .bashrc \n",
    "```\n",
    "If preferred, users can use other shells such as Csh, Ksh, or Zsh.\n",
    "\n"
   ]
  },
  {
   "cell_type": "markdown",
   "id": "4ce6be89",
   "metadata": {},
   "source": []
  }
 ],
 "metadata": {
  "jupytext": {
   "cell_metadata_filter": "-all",
   "main_language": "python",
   "notebook_metadata_filter": "-all"
  },
  "kernelspec": {
   "display_name": "Python 3 (ipykernel)",
   "language": "python",
   "name": "python3"
  },
  "language_info": {
   "codemirror_mode": {
    "name": "ipython",
    "version": 3
   },
   "file_extension": ".py",
   "mimetype": "text/x-python",
   "name": "python",
   "nbconvert_exporter": "python",
   "pygments_lexer": "ipython3",
   "version": "3.12.6"
  },
  "vscode": {
   "interpreter": {
    "hash": "31f2aee4e71d21fbe5cf8b01ff0e069b9275f58929596ceb00d14d90e3e16cd6"
   }
  }
 },
 "nbformat": 4,
 "nbformat_minor": 5
}
